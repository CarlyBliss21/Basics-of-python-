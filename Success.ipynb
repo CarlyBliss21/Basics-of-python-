{
 "cells": [
  {
   "cell_type": "code",
   "execution_count": 1,
   "id": "50c6153c",
   "metadata": {},
   "outputs": [
    {
     "name": "stdout",
     "output_type": "stream",
     "text": [
      "Tina\n"
     ]
    }
   ],
   "source": [
    "name = 'Tina'\n",
    "print(name)"
   ]
  },
  {
   "cell_type": "code",
   "execution_count": 2,
   "id": "0842a1d3",
   "metadata": {},
   "outputs": [
    {
     "name": "stdout",
     "output_type": "stream",
     "text": [
      "I am a girl\n"
     ]
    }
   ],
   "source": [
    "print('I am a girl')"
   ]
  },
  {
   "cell_type": "code",
   "execution_count": 4,
   "id": "bc68503a",
   "metadata": {},
   "outputs": [
    {
     "name": "stdout",
     "output_type": "stream",
     "text": [
      "['orange', 'mango', 'quava', 'apple']\n"
     ]
    }
   ],
   "source": [
    "my_favorite_fruits = ['orange', 'mango','quava','apple']\n",
    "print(my_favorite_fruits)"
   ]
  },
  {
   "cell_type": "code",
   "execution_count": 5,
   "id": "dd670194",
   "metadata": {},
   "outputs": [
    {
     "name": "stdout",
     "output_type": "stream",
     "text": [
      "['orange', 'mango', 'quava', 'apple', 'pawpaw']\n"
     ]
    }
   ],
   "source": [
    "my_favorite_fruits.append('pawpaw')\n",
    "print(my_favorite_fruits)"
   ]
  },
  {
   "cell_type": "code",
   "execution_count": 6,
   "id": "23770188",
   "metadata": {},
   "outputs": [
    {
     "name": "stdout",
     "output_type": "stream",
     "text": [
      "['orange', 'mango', 'quava', 'pawpaw']\n"
     ]
    }
   ],
   "source": [
    "my_favorite_fruits.remove('apple')\n",
    "print(my_favorite_fruits)"
   ]
  },
  {
   "cell_type": "code",
   "execution_count": 9,
   "id": "ab972a7a",
   "metadata": {},
   "outputs": [
    {
     "name": "stdout",
     "output_type": "stream",
     "text": [
      "1\n",
      "2\n",
      "3\n",
      "4\n",
      "5\n",
      "6\n",
      "7\n",
      "8\n",
      "9\n",
      "10\n"
     ]
    }
   ],
   "source": [
    "my_list_of_num = [1,2,3,4,5,6,7,8,9,10]\n",
    "for numbers in my_list_of_num:\n",
    "    print(numbers)"
   ]
  },
  {
   "cell_type": "code",
   "execution_count": 16,
   "id": "02698669",
   "metadata": {},
   "outputs": [
    {
     "name": "stdout",
     "output_type": "stream",
     "text": [
      "15\n"
     ]
    }
   ],
   "source": [
    "my_list = [1,2,3,4,5]\n",
    "result = sum(my_list)\n",
    "print(result)"
   ]
  },
  {
   "cell_type": "code",
   "execution_count": 17,
   "id": "391e97a1",
   "metadata": {},
   "outputs": [
    {
     "name": "stdout",
     "output_type": "stream",
     "text": [
      "('red', 'blue', 'black')\n"
     ]
    }
   ],
   "source": [
    "colors = ('red', 'blue', 'black')\n",
    "print(colors)"
   ]
  },
  {
   "cell_type": "code",
   "execution_count": 18,
   "id": "5a99f37f",
   "metadata": {
    "collapsed": true
   },
   "outputs": [
    {
     "ename": "AttributeError",
     "evalue": "'tuple' object has no attribute 'remove'",
     "output_type": "error",
     "traceback": [
      "\u001b[1;31m---------------------------------------------------------------------------\u001b[0m",
      "\u001b[1;31mAttributeError\u001b[0m                            Traceback (most recent call last)",
      "Cell \u001b[1;32mIn[18], line 1\u001b[0m\n\u001b[1;32m----> 1\u001b[0m colors\u001b[38;5;241m.\u001b[39mremove(red)\n\u001b[0;32m      2\u001b[0m \u001b[38;5;28mprint\u001b[39m(colors)\n",
      "\u001b[1;31mAttributeError\u001b[0m: 'tuple' object has no attribute 'remove'"
     ]
    }
   ],
   "source": [
    "colors.remove(red)\n",
    "print(colors)\n",
    "#tuple object has no attribute to make changes"
   ]
  },
  {
   "cell_type": "code",
   "execution_count": 19,
   "id": "42785967",
   "metadata": {},
   "outputs": [
    {
     "name": "stdout",
     "output_type": "stream",
     "text": [
      "('Rich dad', 'Singles', 'Married women')\n"
     ]
    }
   ],
   "source": [
    "favorite_book = ('Rich dad', 'Singles', 'Married women')\n",
    "print(favorite_book)"
   ]
  },
  {
   "cell_type": "code",
   "execution_count": 20,
   "id": "7111eb4a",
   "metadata": {},
   "outputs": [
    {
     "name": "stdout",
     "output_type": "stream",
     "text": [
      "['Rich dad', 'Singles', 'Married women']\n",
      "<class 'list'>\n"
     ]
    }
   ],
   "source": [
    "list = list(favorite_book)\n",
    "print(list)\n",
    "print(type(list))"
   ]
  },
  {
   "cell_type": "code",
   "execution_count": 21,
   "id": "e3d31605",
   "metadata": {},
   "outputs": [
    {
     "name": "stdout",
     "output_type": "stream",
     "text": [
      "('Rich dad', 'Singles', 'Married women')\n",
      "<class 'tuple'>\n"
     ]
    }
   ],
   "source": [
    "favorite_book = tuple(list)\n",
    "print(favorite_book)\n",
    "print(type(favorite_book))"
   ]
  },
  {
   "cell_type": "code",
   "execution_count": 22,
   "id": "5d3b7b9e",
   "metadata": {},
   "outputs": [
    {
     "name": "stdout",
     "output_type": "stream",
     "text": [
      "The radius is: 8\n",
      "The area of a circle is: 25.13272\n"
     ]
    }
   ],
   "source": [
    "pi = 3.14159\n",
    "radius = int(input('The radius is: '))\n",
    "result = pi*radius\n",
    "print('The area of a circle is:',result)"
   ]
  },
  {
   "cell_type": "code",
   "execution_count": 24,
   "id": "f41e4fbd",
   "metadata": {},
   "outputs": [
    {
     "name": "stdout",
     "output_type": "stream",
     "text": [
      "5\n"
     ]
    }
   ],
   "source": [
    "number = 145\n",
    "result = int(number)%7\n",
    "print(result)"
   ]
  },
  {
   "cell_type": "code",
   "execution_count": null,
   "id": "c67a56cc",
   "metadata": {},
   "outputs": [],
   "source": []
  }
 ],
 "metadata": {
  "kernelspec": {
   "display_name": "Python 3 (ipykernel)",
   "language": "python",
   "name": "python3"
  },
  "language_info": {
   "codemirror_mode": {
    "name": "ipython",
    "version": 3
   },
   "file_extension": ".py",
   "mimetype": "text/x-python",
   "name": "python",
   "nbconvert_exporter": "python",
   "pygments_lexer": "ipython3",
   "version": "3.11.4"
  }
 },
 "nbformat": 4,
 "nbformat_minor": 5
}
